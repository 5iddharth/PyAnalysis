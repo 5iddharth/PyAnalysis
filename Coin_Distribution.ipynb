{
 "cells": [
  {
   "cell_type": "code",
   "execution_count": 2,
   "id": "ca32bd2c-92e0-4df1-a4be-abeb9aa5b771",
   "metadata": {},
   "outputs": [],
   "source": [
    "import numpy as np \n",
    "import matplotlib.pyplot as plt"
   ]
  },
  {
   "cell_type": "code",
   "execution_count": 17,
   "id": "d927eda5-9afb-4581-b0c6-808834ecacde",
   "metadata": {},
   "outputs": [
    {
     "name": "stdout",
     "output_type": "stream",
     "text": [
      "['Heads', 'Tails', 'Heads', 'Heads', 'Heads', 'Tails', 'Heads', 'Heads', 'Heads', 'Tails']\n"
     ]
    }
   ],
   "source": [
    "np.random.seed(42)\n",
    "\n",
    "\n",
    "outcome = []\n",
    "\n",
    "for i in range(10):\n",
    "\n",
    "\tcoin = np.random.randint(0,2)\n",
    "\n",
    "\tif coin == 0:\n",
    "\t\toutcome.append(\"Heads\")\n",
    "\n",
    "\telse:\n",
    "\t\toutcome.append(\"Tails\")\n",
    "\n",
    "print(outcome)"
   ]
  },
  {
   "cell_type": "code",
   "execution_count": 35,
   "id": "12a90fe7-1996-404e-9314-7430ee11a42c",
   "metadata": {},
   "outputs": [
    {
     "name": "stdout",
     "output_type": "stream",
     "text": [
      "7 Heads 3 Tails [0, 1, 2, 3, 4, 5, 6, 7, 8, 9]\n"
     ]
    }
   ],
   "source": [
    "no_heads = outcome.count(\"Heads\")\n",
    "\n",
    "no_tails= outcome.count(\"Tails\")\n",
    "\n",
    "Index = [0,1,2,3,4,5,6,7,8,9]\n",
    "\n",
    "print(no_heads, \"Heads\" , no_tails, \"Tails\", Index)"
   ]
  },
  {
   "cell_type": "code",
   "execution_count": 40,
   "id": "140cfad4-8370-4b72-b49e-309f703d5e5e",
   "metadata": {},
   "outputs": [],
   "source": [
    "final_tails=[]\n",
    "\n",
    "for x in range(100):\n",
    "\n",
    "    tails = [0]\n",
    "    for i in range(10):\n",
    "    \tcoin = np.random.randint(0, 2)\n",
    "    \ttails.append(tails[i] + coin)\n",
    "    \n",
    "\n",
    "final_tails.append(tails)"
   ]
  },
  {
   "cell_type": "code",
   "execution_count": 49,
   "id": "2d9d3b4a-4aaf-46e9-b52b-e8245b00bc9a",
   "metadata": {},
   "outputs": [
    {
     "data": {
      "image/png": "[encoded data removed]",
      "text/plain": [
       "<Figure size 432x288 with 1 Axes>"
      ]
     },
     "metadata": {
      "needs_background": "light"
     },
     "output_type": "display_data"
    }
   ],
   "source": [
    "plt.hist(final_tails, bins=10)\n",
    "\n",
    "plt.show()"
   ]
  },
  {
   "cell_type": "code",
   "execution_count": null,
   "id": "68b83ddb-531a-42d7-98dd-0bb2f5f5dd8a",
   "metadata": {},
   "outputs": [],
   "source": []
  }
 ],
 "metadata": {
  "kernelspec": {
   "display_name": "Python 3",
   "language": "python",
   "name": "python3"
  },
  "language_info": {
   "codemirror_mode": {
    "name": "ipython",
    "version": 3
   },
   "file_extension": ".py",
   "mimetype": "text/x-python",
   "name": "python",
   "nbconvert_exporter": "python",
   "pygments_lexer": "ipython3",
   "version": "3.9.4"
  }
 },
 "nbformat": 4,
 "nbformat_minor": 5
}
