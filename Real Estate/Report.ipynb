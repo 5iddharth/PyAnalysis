{
 "cells": [
  {
   "cell_type": "markdown",
   "id": "3434594e-c133-4336-93f4-7e4c8ea26b81",
   "metadata": {},
   "source": [
    "## Analysing The DataSet"
   ]
  },
  {
   "cell_type": "code",
   "execution_count": 28,
   "id": "53635583-df17-41a5-a8cc-be6e8177bc8b",
   "metadata": {},
   "outputs": [
    {
     "data": {
      "text/plain": [
       "Index(['Country Name', 'Country Code', 'Series Name', 'Series Code', '1990',\n",
       "       '2000', '2011', '2012', '2013', '2014', '2015', '2016', '2017', '2018',\n",
       "       '2019', '2020'],\n",
       "      dtype='object')"
      ]
     },
     "execution_count": 28,
     "metadata": {},
     "output_type": "execute_result"
    }
   ],
   "source": [
    "import pandas as pd\n",
    "import numpy as np \n",
    "from pandas_profiling import ProfileReport\n",
    "import matplotlib.pyplot as plt\n",
    "\n",
    "\n",
    "csv = pd.read_csv(\"USA.csv\")\n",
    "df = pd.DataFrame(csv)\n",
    "df.columns = ['Country Name', 'Country Code', 'Series Name', 'Series Code',\n",
    "       '1990', '2000', '2011', '2012',\n",
    "       '2013', '2014', '2015', '2016',\n",
    "       '2017', '2018', '2019', '2020']\n",
    "df.head().columns"
   ]
  },
  {
   "cell_type": "code",
   "execution_count": 29,
   "id": "211e4dca-5115-4055-b9b2-377f867449bc",
   "metadata": {},
   "outputs": [],
   "source": [
    "df.iloc[[55,56,57]]\n",
    "df.drop([55,56,57], inplace=True)"
   ]
  },
  {
   "cell_type": "markdown",
   "id": "984bb2af-980a-4093-8345-aa3a4d6fd1b0",
   "metadata": {},
   "source": [
    "## Cleaning the DataSet"
   ]
  },
  {
   "cell_type": "code",
   "execution_count": 30,
   "id": "a2d3ef38-8c47-402a-a030-c253b07c3883",
   "metadata": {},
   "outputs": [],
   "source": [
    "df.index\n",
    "df.reset_index(drop=True,inplace=True)"
   ]
  },
  {
   "cell_type": "code",
   "execution_count": 31,
   "id": "180d5bd7-bbe8-475e-b676-b7f02cb33096",
   "metadata": {},
   "outputs": [],
   "source": [
    "df.iloc[[55,56]]\n",
    "df.drop([55,56], inplace=True)"
   ]
  },
  {
   "cell_type": "code",
   "execution_count": 32,
   "id": "7777d9a5-84ec-4da2-9406-5457f30483e8",
   "metadata": {},
   "outputs": [
    {
     "data": {
      "text/plain": [
       "Country Name    0\n",
       "Country Code    0\n",
       "Series Name     0\n",
       "Series Code     0\n",
       "1990            0\n",
       "2000            0\n",
       "2011            0\n",
       "2012            0\n",
       "2013            0\n",
       "2014            0\n",
       "2015            0\n",
       "2016            0\n",
       "2017            0\n",
       "2018            0\n",
       "2019            0\n",
       "2020            0\n",
       "dtype: int64"
      ]
     },
     "execution_count": 32,
     "metadata": {},
     "output_type": "execute_result"
    }
   ],
   "source": [
    "df.isnull().sum()"
   ]
  },
  {
   "cell_type": "code",
   "execution_count": 33,
   "id": "780417e5-e5c0-4d02-b4c8-353eedc0dcbe",
   "metadata": {},
   "outputs": [
    {
     "data": {
      "text/plain": [
       "0"
      ]
     },
     "execution_count": 33,
     "metadata": {},
     "output_type": "execute_result"
    }
   ],
   "source": [
    "df.duplicated().sum()"
   ]
  },
  {
   "cell_type": "code",
   "execution_count": 34,
   "id": "d3c961d0-a716-4a90-9a9d-1bf2e965d2f6",
   "metadata": {},
   "outputs": [
    {
     "data": {
      "text/plain": [
       "Index(['Country Name', 'Country Code', 'Series Name', 'Series Code', '1990',\n",
       "       '2000', '2011', '2012', '2013', '2014', '2015', '2016', '2017', '2018',\n",
       "       '2019', '2020'],\n",
       "      dtype='object')"
      ]
     },
     "execution_count": 34,
     "metadata": {},
     "output_type": "execute_result"
    }
   ],
   "source": [
    "df.columns"
   ]
  },
  {
   "cell_type": "code",
   "execution_count": 35,
   "id": "1d6f4845-6e19-4ca5-b9fa-2348362eff49",
   "metadata": {},
   "outputs": [
    {
     "data": {
      "text/html": [
       "<div>\n",
       "<style scoped>\n",
       "    .dataframe tbody tr th:only-of-type {\n",
       "        vertical-align: middle;\n",
       "    }\n",
       "\n",
       "    .dataframe tbody tr th {\n",
       "        vertical-align: top;\n",
       "    }\n",
       "\n",
       "    .dataframe thead th {\n",
       "        text-align: right;\n",
       "    }\n",
       "</style>\n",
       "<table border=\"1\" class=\"dataframe\">\n",
       "  <thead>\n",
       "    <tr style=\"text-align: right;\">\n",
       "      <th></th>\n",
       "      <th>Country Name</th>\n",
       "      <th>Country Code</th>\n",
       "      <th>Series Name</th>\n",
       "      <th>Series Code</th>\n",
       "      <th>1990</th>\n",
       "      <th>2000</th>\n",
       "      <th>2011</th>\n",
       "      <th>2012</th>\n",
       "      <th>2013</th>\n",
       "      <th>2014</th>\n",
       "      <th>2015</th>\n",
       "      <th>2016</th>\n",
       "      <th>2017</th>\n",
       "      <th>2018</th>\n",
       "      <th>2019</th>\n",
       "    </tr>\n",
       "  </thead>\n",
       "  <tbody>\n",
       "    <tr>\n",
       "      <th>0</th>\n",
       "      <td>United States</td>\n",
       "      <td>USA</td>\n",
       "      <td>Population, total</td>\n",
       "      <td>SP.POP.TOTL</td>\n",
       "      <td>249623000</td>\n",
       "      <td>282162411</td>\n",
       "      <td>311556874</td>\n",
       "      <td>313830990</td>\n",
       "      <td>315993715</td>\n",
       "      <td>318301008</td>\n",
       "      <td>320635163</td>\n",
       "      <td>322941311</td>\n",
       "      <td>324985539</td>\n",
       "      <td>326687501</td>\n",
       "      <td>328239523</td>\n",
       "    </tr>\n",
       "    <tr>\n",
       "      <th>1</th>\n",
       "      <td>United States</td>\n",
       "      <td>USA</td>\n",
       "      <td>Population growth (annual %)</td>\n",
       "      <td>SP.POP.GROW</td>\n",
       "      <td>1.12965052045579</td>\n",
       "      <td>1.11276899679534</td>\n",
       "      <td>0.720017688665691</td>\n",
       "      <td>0.727268997193117</td>\n",
       "      <td>0.686773155567634</td>\n",
       "      <td>0.727517695817155</td>\n",
       "      <td>0.730641178178307</td>\n",
       "      <td>0.716669413429853</td>\n",
       "      <td>0.631007893230758</td>\n",
       "      <td>0.522337357899676</td>\n",
       "      <td>0.473953539373292</td>\n",
       "    </tr>\n",
       "    <tr>\n",
       "      <th>2</th>\n",
       "      <td>United States</td>\n",
       "      <td>USA</td>\n",
       "      <td>Surface area (sq. km)</td>\n",
       "      <td>AG.SRF.TOTL.K2</td>\n",
       "      <td>9629090</td>\n",
       "      <td>9632030</td>\n",
       "      <td>9831510</td>\n",
       "      <td>9831510</td>\n",
       "      <td>9831510</td>\n",
       "      <td>9831510</td>\n",
       "      <td>9831510</td>\n",
       "      <td>9831510</td>\n",
       "      <td>9831510</td>\n",
       "      <td>9831510</td>\n",
       "      <td>..</td>\n",
       "    </tr>\n",
       "  </tbody>\n",
       "</table>\n",
       "</div>"
      ],
      "text/plain": [
       "    Country Name Country Code                   Series Name     Series Code  \\\n",
       "0  United States          USA             Population, total     SP.POP.TOTL   \n",
       "1  United States          USA  Population growth (annual %)     SP.POP.GROW   \n",
       "2  United States          USA         Surface area (sq. km)  AG.SRF.TOTL.K2   \n",
       "\n",
       "               1990              2000               2011               2012  \\\n",
       "0         249623000         282162411          311556874          313830990   \n",
       "1  1.12965052045579  1.11276899679534  0.720017688665691  0.727268997193117   \n",
       "2           9629090           9632030            9831510            9831510   \n",
       "\n",
       "                2013               2014               2015               2016  \\\n",
       "0          315993715          318301008          320635163          322941311   \n",
       "1  0.686773155567634  0.727517695817155  0.730641178178307  0.716669413429853   \n",
       "2            9831510            9831510            9831510            9831510   \n",
       "\n",
       "                2017               2018               2019  \n",
       "0          324985539          326687501          328239523  \n",
       "1  0.631007893230758  0.522337357899676  0.473953539373292  \n",
       "2            9831510            9831510                 ..  "
      ]
     },
     "execution_count": 35,
     "metadata": {},
     "output_type": "execute_result"
    }
   ],
   "source": [
    "df.drop(['2020'], axis=1, inplace=True)\n",
    "df.head(3)"
   ]
  },
  {
   "cell_type": "markdown",
   "id": "d7a19739-06ca-441b-a4c3-a1c27afaa39e",
   "metadata": {},
   "source": [
    "## Overview \n"
   ]
  },
  {
   "cell_type": "code",
   "execution_count": 36,
   "id": "15921511-475b-4542-85c4-406d9c75c0e9",
   "metadata": {},
   "outputs": [
    {
     "data": {
      "application/vnd.jupyter.widget-view+json": {
       "model_id": "c812a34bf60140e98293b54a591bc94e",
       "version_major": 2,
       "version_minor": 0
      },
      "text/plain": [
       "Summarize dataset:   0%|          | 0/28 [00:00<?, ?it/s]"
      ]
     },
     "metadata": {},
     "output_type": "display_data"
    },
    {
     "data": {
      "application/vnd.jupyter.widget-view+json": {
       "model_id": "81398fff725c404a80c8135d9563cab3",
       "version_major": 2,
       "version_minor": 0
      },
      "text/plain": [
       "Generate report structure:   0%|          | 0/1 [00:00<?, ?it/s]"
      ]
     },
     "metadata": {},
     "output_type": "display_data"
    },
    {
     "data": {
      "application/vnd.jupyter.widget-view+json": {
       "model_id": "ac6d82901073414e82f7494b0505c1a1",
       "version_major": 2,
       "version_minor": 0
      },
      "text/plain": [
       "Render HTML:   0%|          | 0/1 [00:00<?, ?it/s]"
      ]
     },
     "metadata": {},
     "output_type": "display_data"
    },
    {
     "data": {
      "application/vnd.jupyter.widget-view+json": {
       "model_id": "0768993b0ec7457c88b07a5332727cd3",
       "version_major": 2,
       "version_minor": 0
      },
      "text/plain": [
       "Export report to file:   0%|          | 0/1 [00:00<?, ?it/s]"
      ]
     },
     "metadata": {},
     "output_type": "display_data"
    }
   ],
   "source": [
    "profile = ProfileReport(df)\n",
    "profile.to_file(output_file = \"file.html\")"
   ]
  },
  {
   "cell_type": "markdown",
   "id": "ea63fa7d-a450-4659-bff7-da02006bde00",
   "metadata": {},
   "source": [
    "## Selecting Economy row\n"
   ]
  },
  {
   "cell_type": "code",
   "execution_count": 37,
   "id": "e0dcbaa0-f957-4433-8a79-b39464631b44",
   "metadata": {},
   "outputs": [],
   "source": [
    "df.replace('..',0, inplace =True)"
   ]
  },
  {
   "cell_type": "code",
   "execution_count": 38,
   "id": "02fc2a42-459e-4885-abe0-99b23df9d08d",
   "metadata": {},
   "outputs": [
    {
     "data": {
      "text/html": [
       "<div>\n",
       "<style scoped>\n",
       "    .dataframe tbody tr th:only-of-type {\n",
       "        vertical-align: middle;\n",
       "    }\n",
       "\n",
       "    .dataframe tbody tr th {\n",
       "        vertical-align: top;\n",
       "    }\n",
       "\n",
       "    .dataframe thead th {\n",
       "        text-align: right;\n",
       "    }\n",
       "</style>\n",
       "<table border=\"1\" class=\"dataframe\">\n",
       "  <thead>\n",
       "    <tr style=\"text-align: right;\">\n",
       "      <th></th>\n",
       "      <th>Country Name</th>\n",
       "      <th>Country Code</th>\n",
       "      <th>Series Name</th>\n",
       "      <th>Series Code</th>\n",
       "      <th>1990</th>\n",
       "      <th>2000</th>\n",
       "      <th>2011</th>\n",
       "      <th>2012</th>\n",
       "      <th>2013</th>\n",
       "      <th>2014</th>\n",
       "      <th>2015</th>\n",
       "      <th>2016</th>\n",
       "      <th>2017</th>\n",
       "      <th>2018</th>\n",
       "      <th>2019</th>\n",
       "    </tr>\n",
       "  </thead>\n",
       "  <tbody>\n",
       "    <tr>\n",
       "      <th>31</th>\n",
       "      <td>United States</td>\n",
       "      <td>USA</td>\n",
       "      <td>GDP (current US$)</td>\n",
       "      <td>NY.GDP.MKTP.CD</td>\n",
       "      <td>5963144000000</td>\n",
       "      <td>10252345464000</td>\n",
       "      <td>15542581104000</td>\n",
       "      <td>16197007349000</td>\n",
       "      <td>16784849196000</td>\n",
       "      <td>17527163695000</td>\n",
       "      <td>18224704440000</td>\n",
       "      <td>18714960538000</td>\n",
       "      <td>19519353692000</td>\n",
       "      <td>20580159776000</td>\n",
       "      <td>21433226000000</td>\n",
       "    </tr>\n",
       "  </tbody>\n",
       "</table>\n",
       "</div>"
      ],
      "text/plain": [
       "     Country Name Country Code        Series Name     Series Code  \\\n",
       "31  United States          USA  GDP (current US$)  NY.GDP.MKTP.CD   \n",
       "\n",
       "             1990            2000            2011            2012  \\\n",
       "31  5963144000000  10252345464000  15542581104000  16197007349000   \n",
       "\n",
       "              2013            2014            2015            2016  \\\n",
       "31  16784849196000  17527163695000  18224704440000  18714960538000   \n",
       "\n",
       "              2017            2018            2019  \n",
       "31  19519353692000  20580159776000  21433226000000  "
      ]
     },
     "execution_count": 38,
     "metadata": {},
     "output_type": "execute_result"
    }
   ],
   "source": [
    "GDP_df = df.loc[df['Series Name'] == \"GDP (current US$)\"]\n",
    "GDP_df"
   ]
  },
  {
   "cell_type": "code",
   "execution_count": 39,
   "id": "e63aefe8-ebf7-43d1-b3a4-8bd2cabe7138",
   "metadata": {},
   "outputs": [
    {
     "data": {
      "text/html": [
       "<div>\n",
       "<style scoped>\n",
       "    .dataframe tbody tr th:only-of-type {\n",
       "        vertical-align: middle;\n",
       "    }\n",
       "\n",
       "    .dataframe tbody tr th {\n",
       "        vertical-align: top;\n",
       "    }\n",
       "\n",
       "    .dataframe thead th {\n",
       "        text-align: right;\n",
       "    }\n",
       "</style>\n",
       "<table border=\"1\" class=\"dataframe\">\n",
       "  <thead>\n",
       "    <tr style=\"text-align: right;\">\n",
       "      <th></th>\n",
       "      <th>1990</th>\n",
       "      <th>2000</th>\n",
       "      <th>2011</th>\n",
       "      <th>2012</th>\n",
       "      <th>2013</th>\n",
       "      <th>2014</th>\n",
       "      <th>2015</th>\n",
       "      <th>2016</th>\n",
       "      <th>2017</th>\n",
       "      <th>2018</th>\n",
       "      <th>2019</th>\n",
       "    </tr>\n",
       "  </thead>\n",
       "  <tbody>\n",
       "    <tr>\n",
       "      <th>31</th>\n",
       "      <td>5963144000000</td>\n",
       "      <td>10252345464000</td>\n",
       "      <td>15542581104000</td>\n",
       "      <td>16197007349000</td>\n",
       "      <td>16784849196000</td>\n",
       "      <td>17527163695000</td>\n",
       "      <td>18224704440000</td>\n",
       "      <td>18714960538000</td>\n",
       "      <td>19519353692000</td>\n",
       "      <td>20580159776000</td>\n",
       "      <td>21433226000000</td>\n",
       "    </tr>\n",
       "  </tbody>\n",
       "</table>\n",
       "</div>"
      ],
      "text/plain": [
       "             1990            2000            2011            2012  \\\n",
       "31  5963144000000  10252345464000  15542581104000  16197007349000   \n",
       "\n",
       "              2013            2014            2015            2016  \\\n",
       "31  16784849196000  17527163695000  18224704440000  18714960538000   \n",
       "\n",
       "              2017            2018            2019  \n",
       "31  19519353692000  20580159776000  21433226000000  "
      ]
     },
     "execution_count": 39,
     "metadata": {},
     "output_type": "execute_result"
    }
   ],
   "source": [
    "records_1 = []\n",
    "records_1 = GDP_df[['1990','2000','2011','2012','2013','2014','2015','2016','2017','2018','2019']]\n",
    "records_1"
   ]
  },
  {
   "cell_type": "code",
   "execution_count": 40,
   "id": "d92eb5a5-2e83-40cc-a125-f8832858f7db",
   "metadata": {},
   "outputs": [
    {
     "data": {
      "text/plain": [
       "array([[ 5963144000000, 10252345464000, 15542581104000, 16197007349000,\n",
       "        16784849196000, 17527163695000, 18224704440000, 18714960538000,\n",
       "        19519353692000, 20580159776000, 21433226000000]])"
      ]
     },
     "execution_count": 40,
     "metadata": {},
     "output_type": "execute_result"
    }
   ],
   "source": [
    "arr = np.array(records_1)\n",
    "arr = arr.astype('int')\n",
    "ind = ['1990','2000','2011','2012','2013','2014','2015','2016','2017','2018','2019']\n",
    "arr_ind = np.array(ind)\n",
    "arr_ind.astype('int')\n",
    "arr\n"
   ]
  },
  {
   "cell_type": "markdown",
   "id": "37f6b740",
   "metadata": {},
   "source": [
    "## Selecting Population row\n"
   ]
  },
  {
   "cell_type": "code",
   "execution_count": 41,
   "id": "1f47c6ca",
   "metadata": {},
   "outputs": [
    {
     "data": {
      "text/html": [
       "<div>\n",
       "<style scoped>\n",
       "    .dataframe tbody tr th:only-of-type {\n",
       "        vertical-align: middle;\n",
       "    }\n",
       "\n",
       "    .dataframe tbody tr th {\n",
       "        vertical-align: top;\n",
       "    }\n",
       "\n",
       "    .dataframe thead th {\n",
       "        text-align: right;\n",
       "    }\n",
       "</style>\n",
       "<table border=\"1\" class=\"dataframe\">\n",
       "  <thead>\n",
       "    <tr style=\"text-align: right;\">\n",
       "      <th></th>\n",
       "      <th>Country Name</th>\n",
       "      <th>Country Code</th>\n",
       "      <th>Series Name</th>\n",
       "      <th>Series Code</th>\n",
       "      <th>1990</th>\n",
       "      <th>2000</th>\n",
       "      <th>2011</th>\n",
       "      <th>2012</th>\n",
       "      <th>2013</th>\n",
       "      <th>2014</th>\n",
       "      <th>2015</th>\n",
       "      <th>2016</th>\n",
       "      <th>2017</th>\n",
       "      <th>2018</th>\n",
       "      <th>2019</th>\n",
       "    </tr>\n",
       "  </thead>\n",
       "  <tbody>\n",
       "    <tr>\n",
       "      <th>0</th>\n",
       "      <td>United States</td>\n",
       "      <td>USA</td>\n",
       "      <td>Population, total</td>\n",
       "      <td>SP.POP.TOTL</td>\n",
       "      <td>249623000</td>\n",
       "      <td>282162411</td>\n",
       "      <td>311556874</td>\n",
       "      <td>313830990</td>\n",
       "      <td>315993715</td>\n",
       "      <td>318301008</td>\n",
       "      <td>320635163</td>\n",
       "      <td>322941311</td>\n",
       "      <td>324985539</td>\n",
       "      <td>326687501</td>\n",
       "      <td>328239523</td>\n",
       "    </tr>\n",
       "    <tr>\n",
       "      <th>1</th>\n",
       "      <td>United States</td>\n",
       "      <td>USA</td>\n",
       "      <td>Population growth (annual %)</td>\n",
       "      <td>SP.POP.GROW</td>\n",
       "      <td>1.12965052045579</td>\n",
       "      <td>1.11276899679534</td>\n",
       "      <td>0.720017688665691</td>\n",
       "      <td>0.727268997193117</td>\n",
       "      <td>0.686773155567634</td>\n",
       "      <td>0.727517695817155</td>\n",
       "      <td>0.730641178178307</td>\n",
       "      <td>0.716669413429853</td>\n",
       "      <td>0.631007893230758</td>\n",
       "      <td>0.522337357899676</td>\n",
       "      <td>0.473953539373292</td>\n",
       "    </tr>\n",
       "    <tr>\n",
       "      <th>2</th>\n",
       "      <td>United States</td>\n",
       "      <td>USA</td>\n",
       "      <td>Surface area (sq. km)</td>\n",
       "      <td>AG.SRF.TOTL.K2</td>\n",
       "      <td>9629090</td>\n",
       "      <td>9632030</td>\n",
       "      <td>9831510</td>\n",
       "      <td>9831510</td>\n",
       "      <td>9831510</td>\n",
       "      <td>9831510</td>\n",
       "      <td>9831510</td>\n",
       "      <td>9831510</td>\n",
       "      <td>9831510</td>\n",
       "      <td>9831510</td>\n",
       "      <td>0</td>\n",
       "    </tr>\n",
       "  </tbody>\n",
       "</table>\n",
       "</div>"
      ],
      "text/plain": [
       "    Country Name Country Code                   Series Name     Series Code  \\\n",
       "0  United States          USA             Population, total     SP.POP.TOTL   \n",
       "1  United States          USA  Population growth (annual %)     SP.POP.GROW   \n",
       "2  United States          USA         Surface area (sq. km)  AG.SRF.TOTL.K2   \n",
       "\n",
       "               1990              2000               2011               2012  \\\n",
       "0         249623000         282162411          311556874          313830990   \n",
       "1  1.12965052045579  1.11276899679534  0.720017688665691  0.727268997193117   \n",
       "2           9629090           9632030            9831510            9831510   \n",
       "\n",
       "                2013               2014               2015               2016  \\\n",
       "0          315993715          318301008          320635163          322941311   \n",
       "1  0.686773155567634  0.727517695817155  0.730641178178307  0.716669413429853   \n",
       "2            9831510            9831510            9831510            9831510   \n",
       "\n",
       "                2017               2018               2019  \n",
       "0          324985539          326687501          328239523  \n",
       "1  0.631007893230758  0.522337357899676  0.473953539373292  \n",
       "2            9831510            9831510                  0  "
      ]
     },
     "execution_count": 41,
     "metadata": {},
     "output_type": "execute_result"
    }
   ],
   "source": [
    "df.head(3)"
   ]
  },
  {
   "cell_type": "code",
   "execution_count": 42,
   "id": "29bfc768",
   "metadata": {},
   "outputs": [
    {
     "data": {
      "text/html": [
       "<div>\n",
       "<style scoped>\n",
       "    .dataframe tbody tr th:only-of-type {\n",
       "        vertical-align: middle;\n",
       "    }\n",
       "\n",
       "    .dataframe tbody tr th {\n",
       "        vertical-align: top;\n",
       "    }\n",
       "\n",
       "    .dataframe thead th {\n",
       "        text-align: right;\n",
       "    }\n",
       "</style>\n",
       "<table border=\"1\" class=\"dataframe\">\n",
       "  <thead>\n",
       "    <tr style=\"text-align: right;\">\n",
       "      <th></th>\n",
       "      <th>Country Name</th>\n",
       "      <th>Country Code</th>\n",
       "      <th>Series Name</th>\n",
       "      <th>Series Code</th>\n",
       "      <th>1990</th>\n",
       "      <th>2000</th>\n",
       "      <th>2011</th>\n",
       "      <th>2012</th>\n",
       "      <th>2013</th>\n",
       "      <th>2014</th>\n",
       "      <th>2015</th>\n",
       "      <th>2016</th>\n",
       "      <th>2017</th>\n",
       "      <th>2018</th>\n",
       "      <th>2019</th>\n",
       "    </tr>\n",
       "  </thead>\n",
       "  <tbody>\n",
       "    <tr>\n",
       "      <th>0</th>\n",
       "      <td>United States</td>\n",
       "      <td>USA</td>\n",
       "      <td>Population, total</td>\n",
       "      <td>SP.POP.TOTL</td>\n",
       "      <td>249623000</td>\n",
       "      <td>282162411</td>\n",
       "      <td>311556874</td>\n",
       "      <td>313830990</td>\n",
       "      <td>315993715</td>\n",
       "      <td>318301008</td>\n",
       "      <td>320635163</td>\n",
       "      <td>322941311</td>\n",
       "      <td>324985539</td>\n",
       "      <td>326687501</td>\n",
       "      <td>328239523</td>\n",
       "    </tr>\n",
       "  </tbody>\n",
       "</table>\n",
       "</div>"
      ],
      "text/plain": [
       "    Country Name Country Code        Series Name  Series Code       1990  \\\n",
       "0  United States          USA  Population, total  SP.POP.TOTL  249623000   \n",
       "\n",
       "        2000       2011       2012       2013       2014       2015  \\\n",
       "0  282162411  311556874  313830990  315993715  318301008  320635163   \n",
       "\n",
       "        2016       2017       2018       2019  \n",
       "0  322941311  324985539  326687501  328239523  "
      ]
     },
     "execution_count": 42,
     "metadata": {},
     "output_type": "execute_result"
    }
   ],
   "source": [
    "population_df = df.loc[df['Series Code'] == 'SP.POP.TOTL']\n",
    "population_df"
   ]
  },
  {
   "cell_type": "code",
   "execution_count": 49,
   "id": "773900a5",
   "metadata": {},
   "outputs": [],
   "source": [
    "population = population_df[['1990','2000','2011','2012','2013','2014','2015','2016','2017','2018','2019']]\n",
    "population = np.array(population).astype('int')"
   ]
  },
  {
   "cell_type": "markdown",
   "id": "edcf448b",
   "metadata": {},
   "source": [
    "## Selecting Urban population row\n"
   ]
  },
  {
   "cell_type": "code",
   "execution_count": 50,
   "id": "46c101b6",
   "metadata": {},
   "outputs": [],
   "source": [
    "urb_pop_df = df.loc[df['Series Code'] == 'SP.URB.GROW']\n",
    "urb_pop = urb_pop_df[['1990','2000','2011','2012','2013','2014','2015','2016','2017','2018','2019']]\n",
    "urb_pop = np.array(urb_pop).astype('float')"
   ]
  },
  {
   "cell_type": "markdown",
   "id": "38ee4b62",
   "metadata": {},
   "source": [
    "## New Dataframe"
   ]
  },
  {
   "cell_type": "code",
   "execution_count": 51,
   "id": "dab67e73-0bf0-4fc0-94ad-00fcffd50761",
   "metadata": {},
   "outputs": [
    {
     "data": {
      "text/plain": [
       "array([[ 5963144000000, 10252345464000, 15542581104000, 16197007349000,\n",
       "        16784849196000, 17527163695000, 18224704440000, 18714960538000,\n",
       "        19519353692000, 20580159776000, 21433226000000]])"
      ]
     },
     "execution_count": 51,
     "metadata": {},
     "output_type": "execute_result"
    }
   ],
   "source": [
    "arr"
   ]
  },
  {
   "cell_type": "code",
   "execution_count": 52,
   "id": "4b7021eb-b6f8-455a-acbe-85a5317c1b9d",
   "metadata": {},
   "outputs": [
    {
     "data": {
      "text/plain": [
       "array([[249623000, 282162411, 311556874, 313830990, 315993715, 318301008,\n",
       "        320635163, 322941311, 324985539, 326687501, 328239523]])"
      ]
     },
     "execution_count": 52,
     "metadata": {},
     "output_type": "execute_result"
    }
   ],
   "source": [
    "population"
   ]
  },
  {
   "cell_type": "code",
   "execution_count": 53,
   "id": "b89dfa6e-677a-4bd5-aeac-43342ab170b3",
   "metadata": {},
   "outputs": [
    {
     "data": {
      "text/plain": [
       "array([[1.41025629, 1.51201139, 0.93273635, 0.9432346 , 0.90842333,\n",
       "        0.95358702, 0.96109854, 0.9502615 , 0.87014921, 0.76333937,\n",
       "        0.72043985]])"
      ]
     },
     "execution_count": 53,
     "metadata": {},
     "output_type": "execute_result"
    }
   ],
   "source": [
    "urb_pop"
   ]
  },
  {
   "cell_type": "code",
   "execution_count": 57,
   "id": "8d10f780-fd69-44a4-a299-ec4cf623f162",
   "metadata": {},
   "outputs": [
    {
     "ename": "NameError",
     "evalue": "name 'Eco' is not defined",
     "output_type": "error",
     "traceback": [
      "\u001b[0;31m---------------------------------------------------------------------------\u001b[0m",
      "\u001b[0;31mNameError\u001b[0m                                 Traceback (most recent call last)",
      "\u001b[0;32m<ipython-input-57-1de18e73a8aa>\u001b[0m in \u001b[0;36m<module>\u001b[0;34m\u001b[0m\n\u001b[1;32m      1\u001b[0m new_set  = [\n\u001b[0;32m----> 2\u001b[0;31m     \u001b[0;34m{\u001b[0m\u001b[0mEco\u001b[0m\u001b[0;34m:\u001b[0m\u001b[0;34m[\u001b[0m \u001b[0;36m5963144000000\u001b[0m\u001b[0;34m,\u001b[0m \u001b[0;36m10252345464000\u001b[0m\u001b[0;34m,\u001b[0m \u001b[0;36m15542581104000\u001b[0m\u001b[0;34m,\u001b[0m \u001b[0;36m16197007349000\u001b[0m\u001b[0;34m,\u001b[0m\u001b[0;36m16784849196000\u001b[0m\u001b[0;34m,\u001b[0m \u001b[0;36m17527163695000\u001b[0m\u001b[0;34m,\u001b[0m \u001b[0;36m18224704440000\u001b[0m\u001b[0;34m,\u001b[0m \u001b[0;36m18714960538000\u001b[0m\u001b[0;34m,\u001b[0m\u001b[0;36m19519353692000\u001b[0m\u001b[0;34m,\u001b[0m \u001b[0;36m20580159776000\u001b[0m\u001b[0;34m,\u001b[0m \u001b[0;36m21433226000000\u001b[0m\u001b[0;34m]\u001b[0m\u001b[0;34m}\u001b[0m\u001b[0;34m,\u001b[0m\u001b[0;34m\u001b[0m\u001b[0;34m\u001b[0m\u001b[0m\n\u001b[0m\u001b[1;32m      3\u001b[0m     \u001b[0;34m{\u001b[0m\u001b[0mPop\u001b[0m\u001b[0;34m:\u001b[0m\u001b[0;34m[\u001b[0m\u001b[0;36m249623000\u001b[0m\u001b[0;34m,\u001b[0m \u001b[0;36m282162411\u001b[0m\u001b[0;34m,\u001b[0m \u001b[0;36m311556874\u001b[0m\u001b[0;34m,\u001b[0m \u001b[0;36m313830990\u001b[0m\u001b[0;34m,\u001b[0m \u001b[0;36m315993715\u001b[0m\u001b[0;34m,\u001b[0m \u001b[0;36m318301008\u001b[0m\u001b[0;34m,\u001b[0m\u001b[0;36m320635163\u001b[0m\u001b[0;34m,\u001b[0m \u001b[0;36m322941311\u001b[0m\u001b[0;34m,\u001b[0m \u001b[0;36m324985539\u001b[0m\u001b[0;34m,\u001b[0m \u001b[0;36m326687501\u001b[0m\u001b[0;34m,\u001b[0m \u001b[0;36m328239523\u001b[0m\u001b[0;34m]\u001b[0m\u001b[0;34m}\u001b[0m\u001b[0;34m,\u001b[0m\u001b[0;34m\u001b[0m\u001b[0;34m\u001b[0m\u001b[0m\n\u001b[1;32m      4\u001b[0m     {Urb_pop:[1.41025629, 1.51201139, 0.93273635, 0.9432346 , 0.90842333,0.95358702, 0.96109854, 0.9502615 , 0.87014921, 0.76333937,0.72043985]\n\u001b[1;32m      5\u001b[0m     }\n",
      "\u001b[0;31mNameError\u001b[0m: name 'Eco' is not defined"
     ]
    }
   ],
   "source": [
    "new_set  = [\n",
    "    {Eco:[ 5963144000000, 10252345464000, 15542581104000, 16197007349000,16784849196000, 17527163695000, 18224704440000, 18714960538000,19519353692000, 20580159776000, 21433226000000]},\n",
    "    {Pop:[249623000, 282162411, 311556874, 313830990, 315993715, 318301008,320635163, 322941311, 324985539, 326687501, 328239523]},\n",
    "    {Urb_pop:[1.41025629, 1.51201139, 0.93273635, 0.9432346 , 0.90842333,0.95358702, 0.96109854, 0.9502615 , 0.87014921, 0.76333937,0.72043985]\n",
    "    }\n",
    "]\n",
    "new_set"
   ]
  },
  {
   "cell_type": "code",
   "execution_count": null,
   "id": "13663655-1136-4c25-a709-a198fcf84aa6",
   "metadata": {},
   "outputs": [],
   "source": []
  }
 ],
 "metadata": {
  "kernelspec": {
   "display_name": "Python 3.9.4 64-bit",
   "language": "python",
   "name": "python395jvsc74a57bd04e1d9a8909477db77738c33245c29c7265277ef753467dede8cf3f814cde494e"
  },
  "language_info": {
   "codemirror_mode": {
    "name": "ipython",
    "version": 3
   },
   "file_extension": ".py",
   "mimetype": "text/x-python",
   "name": "python",
   "nbconvert_exporter": "python",
   "pygments_lexer": "ipython3",
   "version": "3.9.5"
  },
  "metadata": {
   "interpreter": {
    "hash": "4e1d9a8909477db77738c33245c29c7265277ef753467dede8cf3f814cde494e"
   }
  }
 },
 "nbformat": 4,
 "nbformat_minor": 5
}
